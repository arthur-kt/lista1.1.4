{
 "cells": [
  {
   "cell_type": "markdown",
   "id": "1c7860d2",
   "metadata": {},
   "source": [
    "### 4) Pergunte o nome do usuário e apresente a mensagem ”Oi,...”, seguida pelo nome do usuário "
   ]
  },
  {
   "cell_type": "code",
   "execution_count": 6,
   "id": "3284d1c2",
   "metadata": {},
   "outputs": [
    {
     "name": "stdout",
     "output_type": "stream",
     "text": [
      "Qual é o seu nome? Arthur\n"
     ]
    }
   ],
   "source": [
    "nome = input(\"Qual é o seu nome? \")"
   ]
  },
  {
   "cell_type": "code",
   "execution_count": 8,
   "id": "6e9d446f",
   "metadata": {},
   "outputs": [
    {
     "name": "stdout",
     "output_type": "stream",
     "text": [
      "Oi, Arthur\n"
     ]
    }
   ],
   "source": [
    "print(\"Oi,\", nome)"
   ]
  },
  {
   "cell_type": "code",
   "execution_count": null,
   "id": "b8c8d9fc",
   "metadata": {},
   "outputs": [],
   "source": []
  }
 ],
 "metadata": {
  "kernelspec": {
   "display_name": "Python 3 (ipykernel)",
   "language": "python",
   "name": "python3"
  },
  "language_info": {
   "codemirror_mode": {
    "name": "ipython",
    "version": 3
   },
   "file_extension": ".py",
   "mimetype": "text/x-python",
   "name": "python",
   "nbconvert_exporter": "python",
   "pygments_lexer": "ipython3",
   "version": "3.10.9"
  }
 },
 "nbformat": 4,
 "nbformat_minor": 5
}
